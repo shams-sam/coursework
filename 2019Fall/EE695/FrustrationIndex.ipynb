{
 "cells": [
  {
   "cell_type": "code",
   "execution_count": 3,
   "metadata": {},
   "outputs": [],
   "source": [
    "import numpy as np"
   ]
  },
  {
   "cell_type": "code",
   "execution_count": 4,
   "metadata": {},
   "outputs": [],
   "source": [
    "names = [\n",
    "  'Syrian Government',\n",
    "  'Syrian Rebels',\n",
    "  'ISIS',\n",
    "  'Jabhat al-Nusra',\n",
    "  'Kurds',\n",
    "  'U.S. and Allies',\n",
    "  'Iraq',\n",
    "  'Iran and Hezbollar',\n",
    "  'Russia',\n",
    "  'Saudi Arabia, Gulf States',\n",
    "  'Turkey',\n",
    "];"
   ]
  },
  {
   "cell_type": "code",
   "execution_count": 5,
   "metadata": {},
   "outputs": [],
   "source": [
    "positive_conns = [\n",
    "  [1, 7],\n",
    "  [1, 8],\n",
    "  [1, 9],\n",
    "  [2, 6],\n",
    "  [2, 10],\n",
    "  [2, 11],\n",
    "  [5, 6],\n",
    "  [5, 8],\n",
    "  [5, 9],\n",
    "  [6, 7],\n",
    "  [6, 10],\n",
    "  [6, 11],\n",
    "  [7, 8],\n",
    "  [7, 9],\n",
    "  [8, 9],\n",
    "  [10, 11],\n",
    "];"
   ]
  },
  {
   "cell_type": "code",
   "execution_count": 6,
   "metadata": {},
   "outputs": [],
   "source": [
    "negative_conns = [\n",
    "  [1, 2],\n",
    "  [1, 3],\n",
    "  [1, 4],\n",
    "  [1, 6],\n",
    "  [1, 10],\n",
    "  [1, 11],\n",
    "  [2, 3],\n",
    "  [2, 7],\n",
    "  [2, 8],\n",
    "  [2, 9],\n",
    "  [3, 4],\n",
    "  [3, 5],\n",
    "  [3, 6],\n",
    "  [3, 7],\n",
    "  [3, 8],\n",
    "  [3, 9],\n",
    "  [3, 10],\n",
    "  [3, 11],\n",
    "  [4, 5],\n",
    "  [4, 6],\n",
    "  [4, 7],\n",
    "  [4, 8],\n",
    "  [4, 9],\n",
    "  [5, 7],\n",
    "  [5, 11],\n",
    "  [8, 10],\n",
    "  [9, 10],\n",
    "  [9, 11],\n",
    "];\n"
   ]
  },
  {
   "cell_type": "code",
   "execution_count": 11,
   "metadata": {},
   "outputs": [],
   "source": [
    "num_nodes = len(names)\n",
    "A = np.zeros((num_nodes, num_nodes))\n",
    "\n",
    "for _ in positive_conns:\n",
    "    A[_[0]-1, _[1]-1] = 1\n",
    "    A[_[1]-1, _[0]-1] = 1\n",
    "\n",
    "for _ in negative_conns:\n",
    "    A[_[0]-1, _[1]-1] = -1\n",
    "    A[_[1]-1, _[0]-1] = -1"
   ]
  },
  {
   "cell_type": "code",
   "execution_count": 23,
   "metadata": {},
   "outputs": [],
   "source": [
    "def count_negatives(A):\n",
    "    return np.count_nonzero(A[A<0])"
   ]
  },
  {
   "cell_type": "code",
   "execution_count": 131,
   "metadata": {},
   "outputs": [],
   "source": [
    "s = np.ones((1, num_nodes))\n",
    "frust_index = num_nodes * num_nodes;\n",
    "frust_switching = np.zeros((1, num_nodes))\n",
    "count = 1"
   ]
  },
  {
   "cell_type": "code",
   "execution_count": 132,
   "metadata": {},
   "outputs": [],
   "source": [
    "def switching(n, s, i):\n",
    "    global frust_index, frust_switching\n",
    "    if i >= n:\n",
    "        iter_frust = count_negatives(s*A*s.T)\n",
    "        if iter_frust < frust_index:\n",
    "            frust_index = iter_frust\n",
    "            print(s, frust_index)\n",
    "        return\n",
    "    switching(n, s, i+1)\n",
    "    s[0, i] = -1\n",
    "    switching(n, s, i+1)"
   ]
  },
  {
   "cell_type": "code",
   "execution_count": 133,
   "metadata": {},
   "outputs": [
    {
     "name": "stdout",
     "output_type": "stream",
     "text": [
      "[[1. 1. 1. 1. 1. 1. 1. 1. 1. 1. 1.]] 56\n",
      "[[ 1.  1.  1.  1.  1.  1.  1.  1.  1.  1. -1.]] 54\n",
      "[[ 1.  1.  1.  1.  1.  1.  1.  1.  1. -1. -1.]] 48\n",
      "[[ 1.  1.  1.  1.  1.  1. -1. -1. -1. -1. -1.]] 46\n",
      "[[ 1.  1.  1.  1.  1. -1. -1. -1. -1. -1. -1.]] 38\n",
      "[[ 1.  1.  1.  1. -1. -1. -1. -1. -1. -1. -1.]] 32\n"
     ]
    }
   ],
   "source": [
    "switching(num_nodes, s, 0)"
   ]
  },
  {
   "cell_type": "code",
   "execution_count": 135,
   "metadata": {},
   "outputs": [],
   "source": [
    "frust_switching = np.array([[ 1,  1,  1,  1, -1, -1, -1, -1, -1, -1, -1,]])"
   ]
  },
  {
   "cell_type": "code",
   "execution_count": 70,
   "metadata": {},
   "outputs": [
    {
     "data": {
      "text/plain": [
       "array([[1., 1., 1., 1., 1., 1., 1., 1., 1., 1., 1.]])"
      ]
     },
     "execution_count": 70,
     "metadata": {},
     "output_type": "execute_result"
    }
   ],
   "source": [
    "s"
   ]
  },
  {
   "cell_type": "code",
   "execution_count": 138,
   "metadata": {},
   "outputs": [],
   "source": [
    "switching = frust_switching*A*frust_switching.T"
   ]
  },
  {
   "cell_type": "code",
   "execution_count": 142,
   "metadata": {},
   "outputs": [
    {
     "data": {
      "text/plain": [
       "array([[ 0., -2., -2., -2.,  0.,  0.,  0.,  0.,  0.,  0.,  0.],\n",
       "       [-2.,  0., -2.,  0.,  0.,  0.,  0.,  0.,  0.,  0.,  0.],\n",
       "       [-2., -2.,  0., -2.,  0.,  0.,  0.,  0.,  0.,  0.,  0.],\n",
       "       [-2.,  0., -2.,  0.,  0.,  0.,  0.,  0.,  0.,  0.,  0.],\n",
       "       [ 0.,  0.,  0.,  0.,  0.,  2., -2.,  2.,  2.,  0., -2.],\n",
       "       [ 0.,  0.,  0.,  0.,  2.,  0.,  2.,  0.,  0.,  2.,  2.],\n",
       "       [ 0.,  0.,  0.,  0., -2.,  2.,  0.,  2.,  2.,  0.,  0.],\n",
       "       [ 0.,  0.,  0.,  0.,  2.,  0.,  2.,  0.,  2., -2.,  0.],\n",
       "       [ 0.,  0.,  0.,  0.,  2.,  0.,  2.,  2.,  0., -2., -2.],\n",
       "       [ 0.,  0.,  0.,  0.,  0.,  2.,  0., -2., -2.,  0.,  2.],\n",
       "       [ 0.,  0.,  0.,  0., -2.,  2.,  0.,  0., -2.,  2.,  0.]])"
      ]
     },
     "execution_count": 142,
     "metadata": {},
     "output_type": "execute_result"
    }
   ],
   "source": [
    "switching+A"
   ]
  },
  {
   "cell_type": "code",
   "execution_count": 140,
   "metadata": {},
   "outputs": [
    {
     "data": {
      "text/plain": [
       "array([[ 0., -1., -1., -1.,  0., -1.,  1.,  1.,  1., -1., -1.],\n",
       "       [-1.,  0., -1.,  0.,  0.,  1., -1., -1., -1.,  1.,  1.],\n",
       "       [-1., -1.,  0., -1., -1., -1., -1., -1., -1., -1., -1.],\n",
       "       [-1.,  0., -1.,  0., -1., -1., -1., -1., -1.,  0.,  0.],\n",
       "       [ 0.,  0., -1., -1.,  0.,  1., -1.,  1.,  1.,  0., -1.],\n",
       "       [-1.,  1., -1., -1.,  1.,  0.,  1.,  0.,  0.,  1.,  1.],\n",
       "       [ 1., -1., -1., -1., -1.,  1.,  0.,  1.,  1.,  0.,  0.],\n",
       "       [ 1., -1., -1., -1.,  1.,  0.,  1.,  0.,  1., -1.,  0.],\n",
       "       [ 1., -1., -1., -1.,  1.,  0.,  1.,  1.,  0., -1., -1.],\n",
       "       [-1.,  1., -1.,  0.,  0.,  1.,  0., -1., -1.,  0.,  1.],\n",
       "       [-1.,  1., -1.,  0., -1.,  1.,  0.,  0., -1.,  1.,  0.]])"
      ]
     },
     "execution_count": 140,
     "metadata": {},
     "output_type": "execute_result"
    }
   ],
   "source": [
    "A"
   ]
  },
  {
   "cell_type": "code",
   "execution_count": 141,
   "metadata": {},
   "outputs": [
    {
     "data": {
      "text/plain": [
       "array([[ 0., -1., -1., -1., -0.,  1., -1., -1., -1.,  1.,  1.],\n",
       "       [-1.,  0., -1.,  0., -0., -1.,  1.,  1.,  1., -1., -1.],\n",
       "       [-1., -1.,  0., -1.,  1.,  1.,  1.,  1.,  1.,  1.,  1.],\n",
       "       [-1.,  0., -1.,  0.,  1.,  1.,  1.,  1.,  1., -0., -0.],\n",
       "       [-0., -0.,  1.,  1.,  0.,  1., -1.,  1.,  1.,  0., -1.],\n",
       "       [ 1., -1.,  1.,  1.,  1.,  0.,  1.,  0.,  0.,  1.,  1.],\n",
       "       [-1.,  1.,  1.,  1., -1.,  1.,  0.,  1.,  1.,  0.,  0.],\n",
       "       [-1.,  1.,  1.,  1.,  1.,  0.,  1.,  0.,  1., -1.,  0.],\n",
       "       [-1.,  1.,  1.,  1.,  1.,  0.,  1.,  1.,  0., -1., -1.],\n",
       "       [ 1., -1.,  1., -0.,  0.,  1.,  0., -1., -1.,  0.,  1.],\n",
       "       [ 1., -1.,  1., -0., -1.,  1.,  0.,  0., -1.,  1.,  0.]])"
      ]
     },
     "execution_count": 141,
     "metadata": {},
     "output_type": "execute_result"
    }
   ],
   "source": [
    "switching"
   ]
  },
  {
   "cell_type": "code",
   "execution_count": null,
   "metadata": {},
   "outputs": [],
   "source": []
  }
 ],
 "metadata": {
  "kernelspec": {
   "display_name": "Python 3",
   "language": "python",
   "name": "python3"
  },
  "language_info": {
   "codemirror_mode": {
    "name": "ipython",
    "version": 3
   },
   "file_extension": ".py",
   "mimetype": "text/x-python",
   "name": "python",
   "nbconvert_exporter": "python",
   "pygments_lexer": "ipython3",
   "version": "3.6.8"
  }
 },
 "nbformat": 4,
 "nbformat_minor": 2
}
